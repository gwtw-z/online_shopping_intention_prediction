{
 "cells": [
  {
   "cell_type": "markdown",
   "id": "d3fa5748-af88-4828-b8cc-7d5d7ac05243",
   "metadata": {},
   "source": [
    "MLP对数据进行分类"
   ]
  },
  {
   "cell_type": "code",
   "execution_count": 1,
   "id": "77f4111d-f284-4cf6-8c6a-536467e9fb1b",
   "metadata": {},
   "outputs": [],
   "source": [
    "import torch\n",
    "import torch.nn as nn\n",
    "import torch.nn.functional as F\n",
    "import torch.optim\n",
    "import pandas as pd\n",
    "import numpy as np\n",
    "from sklearn import datasets\n",
    "from sklearn.utils import shuffle\n",
    "from sklearn.preprocessing import MinMaxScaler\n",
    "from sklearn.model_selection import train_test_split\n",
    "from sklearn.metrics import f1_score"
   ]
  },
  {
   "cell_type": "markdown",
   "id": "efcecf91-ed4e-4078-8234-1dba289ddc40",
   "metadata": {},
   "source": [
    "定义网络"
   ]
  },
  {
   "cell_type": "code",
   "execution_count": 2,
   "id": "d38644e9-7925-4545-bb49-d93f05a75172",
   "metadata": {},
   "outputs": [],
   "source": [
    "class Net(nn.Module):\n",
    "    def __init__(self):\n",
    "        super(Net, self).__init__()\n",
    "        self.fc1 = nn.Linear(28, 50)\n",
    "        self.fc2 = nn.Linear(50, 50)\n",
    "        self.fc3 = nn.Linear(50, 50)\n",
    "        self.fc4 = nn.Linear(50, 50)\n",
    "        self.fc5 = nn.Linear(50, 50)\n",
    "        self.fc6 = nn.Linear(50, 50)\n",
    "        self.fc7 = nn.Linear(50, 1)\n",
    "\n",
    "    def forward(self, x):\n",
    "        out = self.fc1(x)\n",
    "        out = F.relu(out)\n",
    "        out = self.fc2(out)\n",
    "        out = F.relu(out)\n",
    "        out = self.fc3(out)\n",
    "        out = F.relu(out)\n",
    "        out = self.fc4(out)\n",
    "        out = F.relu(out)\n",
    "        out = self.fc5(out)\n",
    "        out = F.relu(out)\n",
    "        out = self.fc6(out)\n",
    "        out = F.relu(out)\n",
    "        out = self.fc7(out)\n",
    "        return out\n",
    "\n",
    "\n",
    "def test(predict, label):\n",
    "    t = predict == label\n",
    "    accu = np.mean(t)\n",
    "    return accu"
   ]
  },
  {
   "cell_type": "markdown",
   "id": "7a99ed0c-0c3d-4d73-ae99-1b2b05260495",
   "metadata": {},
   "source": [
    "读取数据"
   ]
  },
  {
   "cell_type": "code",
   "execution_count": 3,
   "id": "ced7acdb-7718-4e80-a81f-a81c540a3fc1",
   "metadata": {},
   "outputs": [],
   "source": [
    "table = pd.read_csv(r'D:\\repos\\py\\temp\\online_shoppers_intention.csv')\n",
    "table = shuffle(table, random_state=3)\n",
    "y = table.iloc[:, -1].apply(lambda x: 1 if x is True else 0)\n",
    "table = table.drop(columns=['Revenue'])\n",
    "X = pd.get_dummies(table)\n",
    "mm = MinMaxScaler(feature_range=(0, 1))\n",
    "X = mm.fit_transform(X)\n",
    "train_data, test_data, train_label, test_label = train_test_split(X, y, test_size=0.3, random_state=3)\n",
    "test_label = np.array(test_label).ravel()\n",
    "train_label = np.array(train_label).ravel()"
   ]
  },
  {
   "cell_type": "markdown",
   "id": "74996f71-5864-4b16-b4ba-c55f6e88cd64",
   "metadata": {},
   "source": [
    "定义测试函数"
   ]
  },
  {
   "cell_type": "code",
   "execution_count": 4,
   "id": "de84de73-462c-45e4-98fd-310dde3e929a",
   "metadata": {},
   "outputs": [],
   "source": [
    "def check(epoch):\n",
    "    with torch.no_grad():\n",
    "        test_in = torch.from_numpy(test_data).float()\n",
    "        test_out = myNet(test_in).squeeze().numpy()\n",
    "        for i in range(len(test_out)):\n",
    "            if test_out[i] < 0.5:\n",
    "                test_out[i] = 0\n",
    "            else:\n",
    "                test_out[i] = 1\n",
    "        accu = test(test_out, test_label)\n",
    "        f1 = f1_score(test_label, test_out)\n",
    "        print(\"Epoch:{}\\tLoss:{:.10f}\\tAccuracy:{:.10f}\\tF1-score:{:.10f}\".format(epoch + 1, loss.item(), accu, f1))"
   ]
  },
  {
   "cell_type": "code",
   "execution_count": 5,
   "id": "a1c2f5ad-3af2-42e6-b3b8-7986e45974c4",
   "metadata": {},
   "outputs": [
    {
     "name": "stdout",
     "output_type": "stream",
     "text": [
      "Epoch:500\tLoss:0.1307851076\tAccuracy:0.8453636118\tF1-score:0.0000000000\n",
      "Epoch:1000\tLoss:0.1307154596\tAccuracy:0.8453636118\tF1-score:0.0000000000\n",
      "Epoch:1500\tLoss:0.1305194497\tAccuracy:0.8453636118\tF1-score:0.0000000000\n",
      "Epoch:2000\tLoss:0.1292440295\tAccuracy:0.8453636118\tF1-score:0.0000000000\n",
      "Epoch:2500\tLoss:0.1193707958\tAccuracy:0.8453636118\tF1-score:0.0000000000\n",
      "Epoch:3000\tLoss:0.1101081967\tAccuracy:0.8769937821\tF1-score:0.4678362573\n",
      "Epoch:3500\tLoss:0.0878900588\tAccuracy:0.8775344688\tF1-score:0.3968042610\n",
      "Epoch:4000\tLoss:0.0898893327\tAccuracy:0.8688834820\tF1-score:0.2981186686\n",
      "Epoch:4500\tLoss:0.0782355294\tAccuracy:0.8961881590\tF1-score:0.6577540107\n",
      "Epoch:5000\tLoss:0.0983531997\tAccuracy:0.8969991890\tF1-score:0.6201395813\n",
      "Epoch:5500\tLoss:0.0767171830\tAccuracy:0.8940254123\tF1-score:0.5838641189\n",
      "Epoch:6000\tLoss:0.0745327845\tAccuracy:0.8961881590\tF1-score:0.6660869565\n",
      "Epoch:6500\tLoss:0.0740226433\tAccuracy:0.8964585023\tF1-score:0.6039296794\n",
      "Epoch:7000\tLoss:0.0743650347\tAccuracy:0.8926736956\tF1-score:0.5514124294\n",
      "Epoch:7500\tLoss:0.0744285434\tAccuracy:0.8913219789\tF1-score:0.5314685315\n",
      "Epoch:8000\tLoss:0.0967970639\tAccuracy:0.8972695323\tF1-score:0.6025104603\n",
      "Epoch:8500\tLoss:0.0744559318\tAccuracy:0.8983509057\tF1-score:0.6684303351\n",
      "Epoch:9000\tLoss:0.0724701211\tAccuracy:0.8910516356\tF1-score:0.5253239105\n",
      "Epoch:9500\tLoss:0.0758522302\tAccuracy:0.8994322790\tF1-score:0.6605839416\n",
      "Epoch:10000\tLoss:0.0686382428\tAccuracy:0.9005136523\tF1-score:0.6252545825\n"
     ]
    }
   ],
   "source": [
    "myNet=Net()\n",
    "criterion = nn.MSELoss()  # 损失函数\n",
    "optimzer = torch.optim.ASGD(myNet.parameters(), lr=0.15)\n",
    "epochs = 10000  # 训练次数\n",
    "\n",
    "for i in range(epochs):\n",
    "    x = torch.from_numpy(train_data).float()\n",
    "    y = torch.from_numpy(train_label).float()\n",
    "    out = myNet(x).squeeze()\n",
    "    loss = criterion(out, y)\n",
    "    optimzer.zero_grad()\n",
    "    loss.backward()\n",
    "    optimzer.step()\n",
    "    if (i+1) % 500 == 0:  # 每100次输出相关的信息\n",
    "        check(i)"
   ]
  },
  {
   "cell_type": "code",
   "execution_count": null,
   "id": "16080c93-e52b-404d-8511-bfd33e903dd6",
   "metadata": {},
   "outputs": [],
   "source": []
  }
 ],
 "metadata": {
  "kernelspec": {
   "display_name": "Python 3",
   "language": "python",
   "name": "python3"
  },
  "language_info": {
   "codemirror_mode": {
    "name": "ipython",
    "version": 3
   },
   "file_extension": ".py",
   "mimetype": "text/x-python",
   "name": "python",
   "nbconvert_exporter": "python",
   "pygments_lexer": "ipython3",
   "version": "3.9.5"
  }
 },
 "nbformat": 4,
 "nbformat_minor": 5
}
