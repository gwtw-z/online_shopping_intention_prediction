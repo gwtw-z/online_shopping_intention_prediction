{
 "cells": [
  {
   "cell_type": "code",
   "execution_count": 1,
   "id": "96d9dfdc-aa5b-4afd-a987-48c685497536",
   "metadata": {},
   "outputs": [],
   "source": [
    "import torch\n",
    "import torch.nn as nn\n",
    "import torch.nn.functional as F\n",
    "import torch.optim\n",
    "from torch.nn.init import kaiming_normal_\n",
    "import pandas as pd\n",
    "import numpy as np\n",
    "from sklearn import datasets\n",
    "from sklearn.utils import shuffle\n",
    "from sklearn.preprocessing import MinMaxScaler\n",
    "from sklearn.model_selection import train_test_split\n",
    "from sklearn.metrics import f1_score\n",
    "from imblearn.combine import SMOTETomek"
   ]
  },
  {
   "cell_type": "code",
   "execution_count": 2,
   "id": "1bfb898c-30b2-4b7a-800a-64e0c0a0b268",
   "metadata": {},
   "outputs": [],
   "source": [
    "class Net(nn.Module):\n",
    "    def __init__(self):\n",
    "        super(Net, self).__init__()\n",
    "        self.fc1 = nn.Linear(28, 50)\n",
    "        self.fc2 = nn.Linear(50, 40)\n",
    "        self.fc3 = nn.Linear(40, 30)\n",
    "        self.fc4 = nn.Linear(30, 20)\n",
    "        self.fc5 = nn.Linear(20, 1)\n",
    "\n",
    "    def forward(self, x):\n",
    "        out = self.fc1(x)\n",
    "        out = F.relu(out)\n",
    "        out = self.fc2(out)\n",
    "        out = F.relu(out)\n",
    "        out = self.fc3(out)\n",
    "        out = F.relu(out)\n",
    "        out = self.fc4(out)\n",
    "        out = F.relu(out)\n",
    "        out = self.fc5(out)\n",
    "        return out\n",
    "\n",
    "\n",
    "def test(predict, label):\n",
    "    t = predict == label\n",
    "    accu = np.mean(t)\n",
    "    return accu"
   ]
  },
  {
   "cell_type": "code",
   "execution_count": 3,
   "id": "84485fa8-b6f7-4e92-9d56-47835d2f32b9",
   "metadata": {},
   "outputs": [
    {
     "name": "stdout",
     "output_type": "stream",
     "text": [
      "over-sampling done\n",
      "\n"
     ]
    }
   ],
   "source": [
    "table = pd.read_csv(r'D:\\repos\\py\\temp\\online_shoppers_intention.csv')\n",
    "table = shuffle(table, random_state=3)\n",
    "y = table.iloc[:, -1].apply(lambda x: 1 if x is True else 0)\n",
    "table = table.drop(columns=['Revenue'])\n",
    "X = pd.get_dummies(table)\n",
    "mm = MinMaxScaler(feature_range=(0, 1))\n",
    "X = mm.fit_transform(X)\n",
    "train_data, test_data, train_label, test_label = train_test_split(X, y, test_size=0.3, random_state=3)\n",
    "\n",
    "smote_tomek = SMOTETomek(random_state=3)\n",
    "train_data, train_label = smote_tomek.fit_resample(train_data, train_label)\n",
    "print('over-sampling done\\n')\n",
    "\n",
    "test_label = np.array(test_label).ravel()\n",
    "train_label = np.array(train_label).ravel()"
   ]
  },
  {
   "cell_type": "code",
   "execution_count": 4,
   "id": "9282812f-4208-459d-86b2-9396a8cefdd8",
   "metadata": {},
   "outputs": [],
   "source": [
    "myNet = Net()\n",
    "criterion = nn.MSELoss()  # 损失函数\n",
    "optimzer = torch.optim.ASGD(myNet.parameters(), lr=0.15)\n",
    "epochs = 10000  # 训练次数"
   ]
  },
  {
   "cell_type": "code",
   "execution_count": 5,
   "id": "0cec964e-9330-4742-84ab-905da1dc373e",
   "metadata": {},
   "outputs": [],
   "source": [
    "def check(epoch):\n",
    "    with torch.no_grad():\n",
    "        test_in = torch.from_numpy(test_data).float()\n",
    "        test_out = myNet(test_in).squeeze().numpy()\n",
    "        for i in range(len(test_out)):\n",
    "            if test_out[i] < 0.5:\n",
    "                test_out[i] = 0\n",
    "            else:\n",
    "                test_out[i] = 1\n",
    "        accu = test(test_out, test_label)\n",
    "        f1 = f1_score(test_label, test_out)\n",
    "        print(\"Epoch:{}\\tLoss:{:.10f}\\tAccuracy:{:.10f}\\tF1-score:{:.10f}\".format(epoch + 1, loss.item(), accu, f1))"
   ]
  },
  {
   "cell_type": "code",
   "execution_count": 6,
   "id": "86df81d1-7cdf-4b93-91df-ebaa25805203",
   "metadata": {},
   "outputs": [
    {
     "name": "stdout",
     "output_type": "stream",
     "text": [
      "Epoch:500\tLoss:0.1927117407\tAccuracy:0.4963503650\tF1-score:0.3661109221\n",
      "Epoch:1000\tLoss:0.1674987674\tAccuracy:0.5717761557\tF1-score:0.4022641509\n",
      "Epoch:1500\tLoss:0.1537401825\tAccuracy:0.6304406596\tF1-score:0.4344228382\n",
      "Epoch:2000\tLoss:0.1447963566\tAccuracy:0.6828872668\tF1-score:0.4709066306\n",
      "Epoch:2500\tLoss:0.1368924379\tAccuracy:0.7164098405\tF1-score:0.4959154253\n",
      "Epoch:3000\tLoss:0.1319444478\tAccuracy:0.7391186807\tF1-score:0.5143432310\n",
      "Epoch:3500\tLoss:0.1366590559\tAccuracy:0.7391186807\tF1-score:0.5167751627\n",
      "Epoch:4000\tLoss:0.1089606211\tAccuracy:0.7812922411\tF1-score:0.5527915976\n",
      "Epoch:4500\tLoss:0.1133034825\tAccuracy:0.8067045147\tF1-score:0.5801526718\n",
      "Epoch:5000\tLoss:0.1000460014\tAccuracy:0.8099486348\tF1-score:0.5847607797\n",
      "Epoch:5500\tLoss:0.0845231712\tAccuracy:0.8732089754\tF1-score:0.6543846721\n",
      "Epoch:6000\tLoss:0.0873288512\tAccuracy:0.8869964855\tF1-score:0.6666666667\n",
      "Epoch:6500\tLoss:0.0915681645\tAccuracy:0.8934847256\tF1-score:0.6661016949\n",
      "Epoch:7000\tLoss:0.0973141715\tAccuracy:0.8123817248\tF1-score:0.5854241338\n",
      "Epoch:7500\tLoss:0.0913657621\tAccuracy:0.8183292782\tF1-score:0.5917375456\n",
      "Epoch:8000\tLoss:0.1162992343\tAccuracy:0.8129224115\tF1-score:0.5856287425\n",
      "Epoch:8500\tLoss:0.0870076269\tAccuracy:0.8226547716\tF1-score:0.5990220049\n",
      "Epoch:9000\tLoss:0.0877867788\tAccuracy:0.8356312517\tF1-score:0.6137229987\n",
      "Epoch:9500\tLoss:0.0805043057\tAccuracy:0.8329278183\tF1-score:0.6098484848\n",
      "Epoch:10000\tLoss:0.1000953987\tAccuracy:0.8199513382\tF1-score:0.5948905109\n"
     ]
    }
   ],
   "source": [
    "for i in range(epochs):\n",
    "    x = torch.from_numpy(train_data).float()\n",
    "    y = torch.from_numpy(train_label).float()\n",
    "    out = myNet(x).squeeze()\n",
    "    loss = criterion(out, y)\n",
    "    optimzer.zero_grad()\n",
    "    loss.backward()\n",
    "    optimzer.step()\n",
    "    if (i+1) % 500 == 0:  # 每100次输出相关的信息\n",
    "        check(i)"
   ]
  },
  {
   "cell_type": "code",
   "execution_count": null,
   "id": "8b2e5c6e-01b1-4415-8307-15d4a3c7be1d",
   "metadata": {},
   "outputs": [],
   "source": []
  }
 ],
 "metadata": {
  "kernelspec": {
   "display_name": "Python 3",
   "language": "python",
   "name": "python3"
  },
  "language_info": {
   "codemirror_mode": {
    "name": "ipython",
    "version": 3
   },
   "file_extension": ".py",
   "mimetype": "text/x-python",
   "name": "python",
   "nbconvert_exporter": "python",
   "pygments_lexer": "ipython3",
   "version": "3.9.5"
  }
 },
 "nbformat": 4,
 "nbformat_minor": 5
}
