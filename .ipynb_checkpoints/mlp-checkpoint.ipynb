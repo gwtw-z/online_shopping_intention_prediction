{
 "cells": [
  {
   "cell_type": "markdown",
   "id": "d3fa5748-af88-4828-b8cc-7d5d7ac05243",
   "metadata": {},
   "source": [
    "MLP对数据进行分类"
   ]
  },
  {
   "cell_type": "code",
   "execution_count": 1,
   "id": "77f4111d-f284-4cf6-8c6a-536467e9fb1b",
   "metadata": {},
   "outputs": [],
   "source": [
    "import torch\n",
    "import torch.nn as nn\n",
    "import torch.nn.functional as F\n",
    "import torch.optim\n",
    "import pandas as pd\n",
    "import numpy as np\n",
    "from sklearn import datasets\n",
    "from sklearn.utils import shuffle\n",
    "from sklearn.preprocessing import MinMaxScaler\n",
    "from sklearn.model_selection import train_test_split\n",
    "from sklearn.metrics import f1_score"
   ]
  },
  {
   "cell_type": "markdown",
   "id": "efcecf91-ed4e-4078-8234-1dba289ddc40",
   "metadata": {},
   "source": [
    "定义网络"
   ]
  },
  {
   "cell_type": "code",
   "execution_count": 2,
   "id": "d38644e9-7925-4545-bb49-d93f05a75172",
   "metadata": {},
   "outputs": [],
   "source": [
    "class Net(nn.Module):\n",
    "    def __init__(self):\n",
    "        super(Net, self).__init__()\n",
    "        self.fc1 = nn.Linear(28, 50)\n",
    "        self.fc2 = nn.Linear(50, 40)\n",
    "        self.fc3 = nn.Linear(40, 30)\n",
    "        self.fc4 = nn.Linear(30, 20)\n",
    "        self.fc5 = nn.Linear(20, 1)\n",
    "\n",
    "    def forward(self, x):\n",
    "        out = self.fc1(x)\n",
    "        out = F.relu(out)\n",
    "        out = self.fc2(out)\n",
    "        out = F.relu(out)\n",
    "        out = self.fc3(out)\n",
    "        out = F.relu(out)\n",
    "        out = self.fc4(out)\n",
    "        out = F.relu(out)\n",
    "        out = self.fc5(out)\n",
    "        return out\n",
    "\n",
    "\n",
    "def test(predict, label):\n",
    "    t = predict == label\n",
    "    accu = np.mean(t)\n",
    "    return accu"
   ]
  },
  {
   "cell_type": "markdown",
   "id": "7a99ed0c-0c3d-4d73-ae99-1b2b05260495",
   "metadata": {},
   "source": [
    "读取数据"
   ]
  },
  {
   "cell_type": "code",
   "execution_count": 3,
   "id": "ced7acdb-7718-4e80-a81f-a81c540a3fc1",
   "metadata": {},
   "outputs": [],
   "source": [
    "table = pd.read_csv(r'D:\\repos\\py\\temp\\online_shoppers_intention.csv')\n",
    "table = shuffle(table, random_state=3)\n",
    "y = table.iloc[:, -1].apply(lambda x: 1 if x is True else 0)\n",
    "table = table.drop(columns=['Revenue'])\n",
    "X = pd.get_dummies(table)\n",
    "mm = MinMaxScaler(feature_range=(0, 1))\n",
    "X = mm.fit_transform(X)\n",
    "train_data, test_data, train_label, test_label = train_test_split(X, y, test_size=0.3, random_state=3)\n",
    "test_label = np.array(test_label).ravel()\n",
    "train_label = np.array(train_label).ravel()"
   ]
  },
  {
   "cell_type": "markdown",
   "id": "74996f71-5864-4b16-b4ba-c55f6e88cd64",
   "metadata": {},
   "source": [
    "定义测试函数"
   ]
  },
  {
   "cell_type": "code",
   "execution_count": 4,
   "id": "de84de73-462c-45e4-98fd-310dde3e929a",
   "metadata": {},
   "outputs": [],
   "source": [
    "def check(epoch):\n",
    "    with torch.no_grad():\n",
    "        test_in = torch.from_numpy(test_data).float()\n",
    "        test_out = myNet(test_in).squeeze().numpy()\n",
    "        for i in range(len(test_out)):\n",
    "            if test_out[i] < 0.5:\n",
    "                test_out[i] = 0\n",
    "            else:\n",
    "                test_out[i] = 1\n",
    "        accu = test(test_out, test_label)\n",
    "        f1 = f1_score(test_label, test_out)\n",
    "        print(\"Epoch:{}\\tLoss:{:.10f}\\tAccuracy:{:.10f}\\tF1-score:{:.10f}\".format(epoch + 1, loss.item(), accu, f1))"
   ]
  },
  {
   "cell_type": "code",
   "execution_count": 5,
   "id": "a1c2f5ad-3af2-42e6-b3b8-7986e45974c4",
   "metadata": {},
   "outputs": [
    {
     "name": "stdout",
     "output_type": "stream",
     "text": [
      "Epoch:500\tLoss:0.1268097758\tAccuracy:0.8453636118\tF1-score:0.0000000000\n",
      "Epoch:1000\tLoss:0.1166077852\tAccuracy:0.8453636118\tF1-score:0.0000000000\n",
      "Epoch:1500\tLoss:0.1087441817\tAccuracy:0.8502297918\tF1-score:0.0827814570\n",
      "Epoch:2000\tLoss:0.0968039632\tAccuracy:0.8721276021\tF1-score:0.3366058906\n",
      "Epoch:2500\tLoss:0.0878714174\tAccuracy:0.8815896188\tF1-score:0.4483627204\n",
      "Epoch:3000\tLoss:0.0823026374\tAccuracy:0.8924033523\tF1-score:0.5372093023\n",
      "Epoch:3500\tLoss:0.0793164670\tAccuracy:0.8918626656\tF1-score:0.5535714286\n",
      "Epoch:4000\tLoss:0.0772273988\tAccuracy:0.8942957556\tF1-score:0.5791173305\n",
      "Epoch:4500\tLoss:0.0760546699\tAccuracy:0.8948364423\tF1-score:0.5918153200\n",
      "Epoch:5000\tLoss:0.0745369196\tAccuracy:0.8942957556\tF1-score:0.5948186528\n",
      "Epoch:5500\tLoss:0.0736718178\tAccuracy:0.8961881590\tF1-score:0.6049382716\n",
      "Epoch:6000\tLoss:0.0728348717\tAccuracy:0.8972695323\tF1-score:0.6161616162\n",
      "Epoch:6500\tLoss:0.0724649727\tAccuracy:0.8983509057\tF1-score:0.6171079430\n",
      "Epoch:7000\tLoss:0.0715043843\tAccuracy:0.8994322790\tF1-score:0.6234817814\n",
      "Epoch:7500\tLoss:0.0708459839\tAccuracy:0.9007839957\tF1-score:0.6281661601\n",
      "Epoch:8000\tLoss:0.0699906126\tAccuracy:0.9010543390\tF1-score:0.6325301205\n",
      "Epoch:8500\tLoss:0.0700227022\tAccuracy:0.9007839957\tF1-score:0.6243602866\n",
      "Epoch:9000\tLoss:0.0691262782\tAccuracy:0.9010543390\tF1-score:0.6272912424\n",
      "Epoch:9500\tLoss:0.0683877245\tAccuracy:0.8999729657\tF1-score:0.6300000000\n",
      "Epoch:10000\tLoss:0.0682074502\tAccuracy:0.8999729657\tF1-score:0.6209016393\n"
     ]
    }
   ],
   "source": [
    "myNet=Net()\n",
    "criterion = nn.MSELoss()  # 损失函数\n",
    "optimzer = torch.optim.ASGD(myNet.parameters(), lr=0.15)\n",
    "epochs = 10000  # 训练次数\n",
    "\n",
    "for i in range(epochs):\n",
    "    x = torch.from_numpy(train_data).float()\n",
    "    y = torch.from_numpy(train_label).float()\n",
    "    out = myNet(x).squeeze()\n",
    "    loss = criterion(out, y)\n",
    "    optimzer.zero_grad()\n",
    "    loss.backward()\n",
    "    optimzer.step()\n",
    "    if (i+1) % 500 == 0:  # 每100次输出相关的信息\n",
    "        check(i)"
   ]
  },
  {
   "cell_type": "code",
   "execution_count": null,
   "id": "16080c93-e52b-404d-8511-bfd33e903dd6",
   "metadata": {},
   "outputs": [],
   "source": []
  }
 ],
 "metadata": {
  "kernelspec": {
   "display_name": "Python 3",
   "language": "python",
   "name": "python3"
  },
  "language_info": {
   "codemirror_mode": {
    "name": "ipython",
    "version": 3
   },
   "file_extension": ".py",
   "mimetype": "text/x-python",
   "name": "python",
   "nbconvert_exporter": "python",
   "pygments_lexer": "ipython3",
   "version": "3.9.5"
  }
 },
 "nbformat": 4,
 "nbformat_minor": 5
}
