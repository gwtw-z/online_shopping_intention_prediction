{
 "cells": [
  {
   "cell_type": "code",
   "execution_count": 1,
   "id": "218fdaf0-ecc3-4ca8-8e61-1b2a5b5e3941",
   "metadata": {
    "tags": []
   },
   "outputs": [],
   "source": [
    "from sklearn.neighbors import KNeighborsClassifier\n",
    "from sklearn.naive_bayes import GaussianNB\n",
    "from sklearn import tree\n",
    "from sklearn import svm\n",
    "from sklearn import datasets\n",
    "import matplotlib.pyplot as plt\n",
    "from matplotlib.pyplot import MultipleLocator\n",
    "import pandas as pd\n",
    "import numpy as np\n",
    "import time\n",
    "from tqdm import trange\n",
    "from sklearn.preprocessing import MinMaxScaler\n",
    "from sklearn.model_selection import train_test_split\n",
    "from sklearn.metrics import f1_score\n",
    "from sklearn.model_selection import cross_val_score\n",
    "from sklearn.decomposition import PCA\n",
    "from sklearn.cluster import KMeans\n",
    "from imblearn.over_sampling import SVMSMOTE\n",
    "from imblearn.combine import SMOTETomek\n",
    "from imblearn.combine import SMOTEENN\n",
    "from collections import Counter"
   ]
  },
  {
   "cell_type": "markdown",
   "id": "b1cb8858-938b-42e7-a31f-8b99cebb9303",
   "metadata": {
    "tags": []
   },
   "source": [
    "导入数据"
   ]
  },
  {
   "cell_type": "code",
   "execution_count": 2,
   "id": "fdac103f-a8c9-4297-a3c2-a672ab30bb30",
   "metadata": {},
   "outputs": [],
   "source": [
    "table = pd.read_csv(r'D:\\repos\\py\\temp\\online_shoppers_intention.csv')\n",
    "y = table.iloc[:, -1]\n",
    "table = table.drop(columns=['Revenue'])\n",
    "X = pd.get_dummies(table)\n",
    "mm = MinMaxScaler(feature_range=(0, 1))\n",
    "X = mm.fit_transform(X)\n",
    "\n",
    "train_data, test_data, train_label, test_label = train_test_split(X, y, test_size=0.3, random_state=3)\n",
    "smote_tomek = SMOTETomek(random_state=3)\n",
    "train_data, train_label = smote_tomek.fit_resample(train_data, train_label)\n",
    "test_label = np.array(test_label).ravel()\n",
    "train_label = np.array(train_label).ravel()"
   ]
  },
  {
   "cell_type": "markdown",
   "id": "94f70ae3-de97-48a6-b98e-b0d73755acb3",
   "metadata": {},
   "source": [
    "定义分类器"
   ]
  },
  {
   "cell_type": "code",
   "execution_count": 3,
   "id": "fefea52b-4a3d-44f1-b5ce-51d460ec3a64",
   "metadata": {},
   "outputs": [],
   "source": [
    "class Classifier:\n",
    "    def __init__(self):\n",
    "        self.train_data = train_data\n",
    "        self.train_label = train_label\n",
    "        self.test_data = test_data\n",
    "        self.test_label = test_label"
   ]
  },
  {
   "cell_type": "code",
   "execution_count": 4,
   "id": "6168b1b9-9c16-4602-b253-81f0574bb35b",
   "metadata": {},
   "outputs": [],
   "source": [
    "class NaiveBayes(Classifier):\n",
    "    def __init__(self):\n",
    "        super(NaiveBayes, self).__init__()\n",
    "        self.clf = GaussianNB()\n",
    "        self.train()\n",
    "        self.score()\n",
    "\n",
    "    def train(self):\n",
    "        start = time.time()\n",
    "        self.clf.fit(train_data, train_label.ravel())\n",
    "        end = time.time()\n",
    "        print('naive bayes:\\ntraining time:', end - start, 's')\n",
    "\n",
    "    def score(self):\n",
    "        accu = cross_val_score(self.clf, self.test_data, self.test_label, cv=10).mean()\n",
    "        predict = self.clf.predict(test_data)\n",
    "        f1 = f1_score(test_label, predict)\n",
    "        print('accuracy:{:.10f}\\tf1-score:{:.10f}\\n'.format(accu, f1))"
   ]
  },
  {
   "cell_type": "code",
   "execution_count": 5,
   "id": "6f47eb83-56e7-4296-a614-d135283c1ee6",
   "metadata": {},
   "outputs": [],
   "source": [
    "class KNN(Classifier):\n",
    "    def __init__(self, n=5):\n",
    "        super(KNN, self).__init__()\n",
    "        self.clf = KNeighborsClassifier(n_neighbors=n)\n",
    "        self.train()\n",
    "        self.score()\n",
    "\n",
    "    def train(self):\n",
    "        start = time.time()\n",
    "        self.clf.fit(train_data, train_label.ravel())\n",
    "        end = time.time()\n",
    "        print('knn:\\ntraining time:', end - start, 's')\n",
    "\n",
    "    def score(self):\n",
    "        accu = cross_val_score(self.clf, self.test_data, self.test_label, cv=10).mean()\n",
    "        predict = self.clf.predict(test_data)\n",
    "        f1 = f1_score(test_label, predict)\n",
    "        print('accuracy:{:.10f}\\tf1-score:{:.10f}\\n'.format(accu, f1))"
   ]
  },
  {
   "cell_type": "code",
   "execution_count": 6,
   "id": "21647a1b-34c4-4752-b7fb-08c48d421781",
   "metadata": {
    "scrolled": true,
    "tags": []
   },
   "outputs": [],
   "source": [
    "class DecisionTree(Classifier):\n",
    "    def __init__(self):\n",
    "        super(DecisionTree, self).__init__()\n",
    "        self.clf = tree.DecisionTreeClassifier(criterion=\"entropy\")\n",
    "        self.train()\n",
    "        self.score()\n",
    "\n",
    "    def train(self):\n",
    "        start = time.time()\n",
    "        self.clf.fit(train_data, train_label.ravel())\n",
    "        end = time.time()\n",
    "        print('decision tree:\\ntraining time:', end - start, 's')\n",
    "\n",
    "    def score(self):\n",
    "        accu = cross_val_score(self.clf, self.test_data, self.test_label, cv=10).mean()\n",
    "        predict = self.clf.predict(test_data)\n",
    "        f1 = f1_score(test_label, predict)\n",
    "        print('accuracy:{:.10f}\\tf1-score:{:.10f}\\n'.format(accu, f1))"
   ]
  },
  {
   "cell_type": "code",
   "execution_count": 7,
   "id": "fead1f28-6f04-4200-baf0-327eb37f80a2",
   "metadata": {},
   "outputs": [],
   "source": [
    "class SVM(Classifier):\n",
    "    def __init__(self):\n",
    "        super(SVM, self).__init__()\n",
    "        self.clf = svm.SVC(C=2, kernel='rbf', decision_function_shape='ovr')\n",
    "        self.train()\n",
    "        self.score()\n",
    "\n",
    "    def train(self):\n",
    "        start = time.time()\n",
    "        self.clf.fit(train_data, train_label.ravel())\n",
    "        end = time.time()\n",
    "        print('svm:\\ntraining time:', end - start, 's')\n",
    "\n",
    "    def score(self):\n",
    "        accu = cross_val_score(self.clf, self.test_data, self.test_label, cv=10).mean()\n",
    "        predict = self.clf.predict(test_data)\n",
    "        f1 = f1_score(test_label, predict)\n",
    "        print('accuracy:{:.10f}\\tf1-score:{:.10f}\\n'.format(accu, f1))"
   ]
  },
  {
   "cell_type": "code",
   "execution_count": 8,
   "id": "4dafbd91-a9a8-412e-a8af-71d2c559ba21",
   "metadata": {},
   "outputs": [
    {
     "name": "stdout",
     "output_type": "stream",
     "text": [
      "naive bayes:\n",
      "training time: 0.007980108261108398 s\n",
      "accuracy:0.3768563686\tf1-score:0.3640845070\n",
      "\n",
      "knn:\n",
      "training time: 0.0 s\n",
      "accuracy:0.8429282941\tf1-score:0.3990877993\n",
      "\n",
      "decision tree:\n",
      "training time: 0.12865567207336426 s\n",
      "accuracy:0.8680773456\tf1-score:0.5730612245\n",
      "\n",
      "svm:\n",
      "training time: 5.378597974777222 s\n",
      "accuracy:0.8751036402\tf1-score:0.6098265896\n",
      "\n"
     ]
    }
   ],
   "source": [
    "naive_bayes = NaiveBayes()\n",
    "knn = KNN()\n",
    "decision_tree = DecisionTree()\n",
    "svm = SVM()"
   ]
  },
  {
   "cell_type": "code",
   "execution_count": null,
   "id": "3de9e0ca-c2fa-42dd-8954-5913d7730946",
   "metadata": {},
   "outputs": [],
   "source": []
  }
 ],
 "metadata": {
  "kernelspec": {
   "display_name": "Python 3",
   "language": "python",
   "name": "python3"
  },
  "language_info": {
   "codemirror_mode": {
    "name": "ipython",
    "version": 3
   },
   "file_extension": ".py",
   "mimetype": "text/x-python",
   "name": "python",
   "nbconvert_exporter": "python",
   "pygments_lexer": "ipython3",
   "version": "3.9.5"
  }
 },
 "nbformat": 4,
 "nbformat_minor": 5
}
