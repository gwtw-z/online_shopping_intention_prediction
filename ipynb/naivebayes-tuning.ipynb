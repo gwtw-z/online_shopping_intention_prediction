{
 "cells": [
  {
   "cell_type": "code",
   "execution_count": 1,
   "id": "1d851c5b-b310-4ae1-9593-e2c62dad35fd",
   "metadata": {},
   "outputs": [],
   "source": [
    "from sklearn.neighbors import KNeighborsClassifier\n",
    "from sklearn.naive_bayes import GaussianNB\n",
    "from sklearn import tree\n",
    "from sklearn import svm\n",
    "from sklearn import datasets\n",
    "import matplotlib.pyplot as plt\n",
    "from matplotlib.pyplot import MultipleLocator\n",
    "import pandas as pd\n",
    "import numpy as np\n",
    "import time\n",
    "from tqdm import trange\n",
    "from sklearn.preprocessing import MinMaxScaler\n",
    "from sklearn.model_selection import train_test_split\n",
    "from sklearn.metrics import f1_score\n",
    "from sklearn.model_selection import cross_val_score\n",
    "from sklearn.decomposition import PCA\n",
    "from sklearn.cluster import KMeans\n",
    "from imblearn.over_sampling import SVMSMOTE\n",
    "from imblearn.combine import SMOTETomek\n",
    "from imblearn.combine import SMOTEENN\n",
    "from collections import Counter"
   ]
  },
  {
   "cell_type": "code",
   "execution_count": 2,
   "id": "470d9c95-14ec-4714-9ee0-9a2d636b1643",
   "metadata": {},
   "outputs": [],
   "source": [
    "top5 = ['PageValues', 'Month', 'ExitRates', 'Weekend', 'Informational_Duration']\n",
    "top10 = ['PageValues', 'Month', 'ExitRates', 'Weekend', 'Informational_Duration', 'Region', 'OperatingSystems',\n",
    "         'Administrative_Duration', 'VisitorType', 'ProductRelated_Duration']\n",
    "file = r'C:\\Users\\zty19\\Desktop\\毕设\\major\\repo\\online_shoppers_intention.csv'"
   ]
  },
  {
   "cell_type": "code",
   "execution_count": 3,
   "id": "4ac78b46-8259-4ad9-96bb-86fd14875862",
   "metadata": {},
   "outputs": [],
   "source": [
    "table = pd.read_csv(file)\n",
    "y = table.iloc[:, -1]\n",
    "table = table.drop(columns=['Revenue'])\n",
    "table = table[top10]\n",
    "x = pd.get_dummies(table)\n",
    "mm = MinMaxScaler(feature_range=(0, 1))\n",
    "x = mm.fit_transform(x)\n",
    "\n",
    "train_data, test_data, train_label, test_label = train_test_split(x, y, test_size=0.3, random_state=3,\n",
    "                                                                  stratify=y)\n",
    "smote_tomek = SMOTETomek(random_state=3)\n",
    "train_data, train_label = smote_tomek.fit_resample(train_data, train_label)\n",
    "test_label = np.array(test_label).ravel()\n",
    "train_label = np.array(train_label).ravel()"
   ]
  },
  {
   "cell_type": "code",
   "execution_count": 4,
   "id": "618fa583-3584-4ed0-8af4-7dc0ea9d7d93",
   "metadata": {},
   "outputs": [
    {
     "name": "stdout",
     "output_type": "stream",
     "text": [
      "\n",
      "accuracy:0.7053358236\tf1-score:0.4316797215\n",
      "\n"
     ]
    }
   ],
   "source": [
    "clf = GaussianNB()\n",
    "clf.fit(train_data, train_label.ravel())\n",
    "accu = cross_val_score(clf, test_data, test_label, cv=10).mean()\n",
    "predict = clf.predict(test_data)\n",
    "f1 = f1_score(test_label, predict)\n",
    "\n",
    "print('\\naccuracy:{:.10f}\\tf1-score:{:.10f}\\n'.format(accu, f1))"
   ]
  },
  {
   "cell_type": "code",
   "execution_count": null,
   "id": "a0a19187-6f8a-4702-9727-a523f2a04de4",
   "metadata": {},
   "outputs": [],
   "source": []
  }
 ],
 "metadata": {
  "kernelspec": {
   "display_name": "Python 3",
   "language": "python",
   "name": "python3"
  },
  "language_info": {
   "codemirror_mode": {
    "name": "ipython",
    "version": 3
   },
   "file_extension": ".py",
   "mimetype": "text/x-python",
   "name": "python",
   "nbconvert_exporter": "python",
   "pygments_lexer": "ipython3",
   "version": "3.9.5"
  }
 },
 "nbformat": 4,
 "nbformat_minor": 5
}
